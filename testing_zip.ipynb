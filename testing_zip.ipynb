{
 "cells": [
  {
   "cell_type": "markdown",
   "id": "45e2eb4e",
   "metadata": {},
   "source": [
    "# Testing zip() function speed vs for loop"
   ]
  },
  {
   "cell_type": "markdown",
   "id": "fa383891",
   "metadata": {},
   "source": [
    "I wanted to know how much faster the inbuilt `zip()` Function is compared to my `custom_zip()` function for different input sizes.\n",
    "\n",
    "I found that the inbuilt zip function is faster as the input size increases.\n",
    "The inbuilt `zip` is O(1) while my `custom_zip()` runs is in O(n).\n",
    "For an input of two 1000 element arrays, inbuilt `zip()` is 1000x faster than my `custom_zip()`.\n",
    "\n",
    "Remember that O(g) is the set of all functions f such that there exists a positive constant c and a positive integer n0 such that f(n) <= cg(n) for all n >= n0."
   ]
  },
  {
   "cell_type": "code",
   "execution_count": 16,
   "id": "ee25c373",
   "metadata": {},
   "outputs": [],
   "source": [
    "import timeit\n",
    "import matplotlib.pyplot as plt"
   ]
  },
  {
   "cell_type": "code",
   "execution_count": 17,
   "id": "65409417",
   "metadata": {},
   "outputs": [],
   "source": [
    "def custom_zip(*args):\n",
    "    \"\"\"\n",
    "    This function takes in an arbitrary number of iterables\n",
    "    and returns an iterator of tuples where the i-th tuple contains\n",
    "    the i-th element from each of the argument sequences or iterables.\n",
    "    \"\"\"\n",
    "    result = []\n",
    "    for i in range(len(args[0])):\n",
    "        result.append(tuple(arg[i] for arg in args))\n",
    "    return result"
   ]
  },
  {
   "cell_type": "markdown",
   "id": "38fcaf15",
   "metadata": {},
   "source": [
    "Initialise the input arrays"
   ]
  },
  {
   "cell_type": "code",
   "execution_count": 18,
   "id": "9faae284",
   "metadata": {},
   "outputs": [],
   "source": [
    "results_zip = []\n",
    "results_custom_zip = []\n",
    "\n",
    "max_num = 1000\n",
    "div = max_num // 10\n",
    "x = range(0,max_num,div)\n",
    "\n",
    "timeit_iterations = 1000"
   ]
  },
  {
   "cell_type": "markdown",
   "id": "ccf1ab1b",
   "metadata": {},
   "source": [
    "Crunch the numbers "
   ]
  },
  {
   "cell_type": "code",
   "execution_count": 19,
   "id": "51937a67",
   "metadata": {},
   "outputs": [
    {
     "name": "stdout",
     "output_type": "stream",
     "text": [
      "0\n",
      "100\n",
      "200\n",
      "300\n",
      "400\n",
      "500\n",
      "600\n",
      "700\n",
      "800\n",
      "900\n"
     ]
    }
   ],
   "source": [
    "for i in x:\n",
    "    print(i)\n",
    "    t = timeit.Timer(\"zip(range({}), range({}))\".format(i, i))\n",
    "    results_zip.append(t.timeit(number=timeit_iterations))\n",
    "    t = timeit.Timer(\"custom_zip(range({}), range({}))\".format(i, i), setup=\"from __main__ import custom_zip\")\n",
    "    results_custom_zip.append(t.timeit(number=timeit_iterations))"
   ]
  },
  {
   "cell_type": "markdown",
   "id": "08ad1350",
   "metadata": {},
   "source": [
    "Graph the results"
   ]
  },
  {
   "cell_type": "code",
   "execution_count": 20,
   "id": "37c86e51",
   "metadata": {},
   "outputs": [
    {
     "data": {
      "image/png": "[encoded data removed]",
      "text/plain": [
       "<Figure size 432x288 with 2 Axes>"
      ]
     },
     "metadata": {
      "needs_background": "light"
     },
     "output_type": "display_data"
    }
   ],
   "source": [
    "y1 = results_zip\n",
    "y2 = results_custom_zip\n",
    "\n",
    "fig, (ax1, ax2) = plt.subplots(2)\n",
    "fig.suptitle('Zip vs Custom Zip')\n",
    "ax1.plot(x,y1, 'r.', label=\"inbuilt zip\")\n",
    "ax1.set(xlabel='input size', ylabel='time (s)')\n",
    "ax1.legend()\n",
    "ax2.plot(x,y2, 'r.', label=\"custom zip\")\n",
    "ax2.set(xlabel='input size', ylabel='time (s)')\n",
    "ax2.legend()\n",
    "\n",
    "# space the plots out a bit\n",
    "fig.tight_layout(pad=2.0)\n",
    "\n",
    "# annotate the points with their values\n",
    "for x,y in zip(x,y1):\n",
    "    label = \"{:f}\".format(y)\n",
    "    ax1.annotate(label, # this is the text\n",
    "                 (x,y), # these are the coordinates to position the label\n",
    "                 textcoords=\"offset points\", # how to position the text\n",
    "                 xytext=(0,10), # distance from text to points (x,y)\n",
    "                 ha='center') # horizontal alignment can be left, right or center\n",
    "\n",
    "# reset x iterator\n",
    "x = range(0,max_num,div)\n",
    "\n",
    "for x,y in zip(x,y2):\n",
    "    label = \"{:f}\".format(y)\n",
    "    ax2.annotate(label, # this is the text\n",
    "                 (x,y), # these are the coordinates to position the label\n",
    "                 textcoords=\"offset points\", # how to position the text\n",
    "                 xytext=(0,10), # distance from text to points (x,y)\n",
    "                 ha='center') # horizontal alignment can be left, right or center\n",
    "\n",
    "plt.show()"
   ]
  }
 ],
 "metadata": {
  "kernelspec": {
   "display_name": "Python 3.9.1 64-bit",
   "language": "python",
   "name": "python3"
  },
  "language_info": {
   "codemirror_mode": {
    "name": "ipython",
    "version": 3
   },
   "file_extension": ".py",
   "mimetype": "text/x-python",
   "name": "python",
   "nbconvert_exporter": "python",
   "pygments_lexer": "ipython3",
   "version": "3.9.1"
  },
  "vscode": {
   "interpreter": {
    "hash": "aee8b7b246df8f9039afb4144a1f6fd8d2ca17a180786b69acc140d282b71a49"
   }
  }
 },
 "nbformat": 4,
 "nbformat_minor": 5
}
